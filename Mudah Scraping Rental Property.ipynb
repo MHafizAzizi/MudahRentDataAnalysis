{
 "cells": [
  {
   "cell_type": "markdown",
   "id": "b3cf6d28-be1a-4a8b-9666-bdb3ee50f33d",
   "metadata": {},
   "source": [
    "Importing relevant libraries for this part of scraping"
   ]
  },
  {
   "cell_type": "code",
   "execution_count": 1,
   "id": "d1775d5a-d96b-4498-8fac-bbc697a328e9",
   "metadata": {},
   "outputs": [],
   "source": [
    "import requests\n",
    "import pandas as pd\n",
    "from bs4 import BeautifulSoup as bs\n",
    "import json\n",
    "from tqdm import tqdm"
   ]
  },
  {
   "cell_type": "markdown",
   "id": "27beae0f-7ad7-4a56-acb7-4da8b8c5fdeb",
   "metadata": {},
   "source": [
    "page_number function generate a list of URLs for a range of page numbers."
   ]
  },
  {
   "cell_type": "code",
   "execution_count": 54,
   "id": "e8861b2d-f54a-41e6-afeb-c258b66e2aba",
   "metadata": {},
   "outputs": [],
   "source": [
    "def page_number(start, end):  \n",
    "    url = 'https://www.mudah.my/terengganu/properties-for-rent?o='\n",
    "    list_page = []\n",
    "    for i in range(start, end+1):\n",
    "        list_page.append(url+str(i))\n",
    "    return list_page\n",
    "#print(page_number(1,2)) - checking function"
   ]
  },
  {
   "cell_type": "markdown",
   "id": "b8a01a15-f813-45a4-bb9b-ab50bb8cf6e7",
   "metadata": {},
   "source": [
    "Scrapes property data from a list of URLs and returns a pandas DataFrame."
   ]
  },
  {
   "cell_type": "code",
   "execution_count": 55,
   "id": "4dcc48cc-aeae-4c84-aa8c-eac27e2f0ea9",
   "metadata": {
    "scrolled": true
   },
   "outputs": [
    {
     "name": "stderr",
     "output_type": "stream",
     "text": [
      "100%|██████████████████████████████████████████████████████████████████████████████████| 15/15 [00:35<00:00,  2.35s/it]"
     ]
    },
    {
     "name": "stdout",
     "output_type": "stream",
     "text": [
      "                                                  Link  \\\n",
      "0    https://www.mudah.my/kedai-jln-sultan-sulaiman...   \n",
      "1    https://www.mudah.my/kedai-jln-sultan-zainal-a...   \n",
      "2    https://www.mudah.my/rumah-untuk-disewa-di-ker...   \n",
      "3    https://www.mudah.my/lot-3111-jalan-besar-kg-n...   \n",
      "4    https://www.mudah.my/rumah-untuk-disewa-kg-nyi...   \n",
      "..                                                 ...   \n",
      "396  https://www.mudah.my/rumah+Sewa+kijal-10539544...   \n",
      "397  https://www.mudah.my/Single+Room+Kerteh-104125...   \n",
      "398  https://www.mudah.my/Bilik+Sewa+SINGLE+Tok+Jem...   \n",
      "399  https://www.mudah.my/Rumah+Sewa+Bukit+Kuang-10...   \n",
      "400  https://www.mudah.my/Rumah+berdekatan+Politekn...   \n",
      "\n",
      "                                                  Name  \\\n",
      "0            Kedai Jln Sultan Sulaiman K. Trg Utk Sewa   \n",
      "1       Kedai Jln Sultan Zainal Abidin K. Trg Utk Sewa   \n",
      "2    Rumah Untuk Disewa Di Kerteh (Berdekatan Balai...   \n",
      "3          Lot 3111, Jalan Besar Kg Nyior Paka, Dungun   \n",
      "4            Rumah Untuk Disewa, Kg Nyior Paka, Dungun   \n",
      "..                                                 ...   \n",
      "396                                   rumah Sewa kijal   \n",
      "397                                Single Room -Kerteh   \n",
      "398  Bilik Sewa SINGLE Tok Jembal berhampiran Unisz...   \n",
      "399                             Rumah Sewa Bukit Kuang   \n",
      "400  Rumah berdekatan Politeknik Dungun (6 KEKOSONG...   \n",
      "\n",
      "               Property Type No of Rooms Property Size (sq. ft) Monthly Rent  \\\n",
      "0                   Shop lot                               1400     RM 3,000   \n",
      "1                   Shop lot                               1400     RM 3,000   \n",
      "2             Bungalow House           4                    950     RM 1,500   \n",
      "3                     Others           3                   1000       RM 650   \n",
      "4                     Others           3                   1000       RM 550   \n",
      "..                       ...         ...                    ...          ...   \n",
      "396                   Others           3                    880     RM 1,500   \n",
      "397                   Houses                                135       RM 500   \n",
      "398                   Houses                                 80       RM 300   \n",
      "399      Semi-Detached House           3                   1400     RM 1,200   \n",
      "400  2-storey Terraced House           4                   2000     RM 1,200   \n",
      "\n",
      "    Property Address  \n",
      "0         Terengganu  \n",
      "1         Terengganu  \n",
      "2         Terengganu  \n",
      "3         Terengganu  \n",
      "4         Terengganu  \n",
      "..               ...  \n",
      "396       Terengganu  \n",
      "397       Terengganu  \n",
      "398       Terengganu  \n",
      "399       Terengganu  \n",
      "400       Terengganu  \n",
      "\n",
      "[401 rows x 7 columns]\n"
     ]
    },
    {
     "name": "stderr",
     "output_type": "stream",
     "text": [
      "\n"
     ]
    }
   ],
   "source": [
    "def prop_data(list_page):\n",
    "    headers = {\"User-Agent\": \"Mozilla/5.0 (Windows NT 10.0; Win64; x64; rv:124.0) Gecko/20100101 Firefox/124.0\"} #google my user agent\n",
    "    data_list = []\n",
    "    for url in tqdm(list_page):\n",
    "        page = requests.get(url=url, headers=headers)\n",
    "        soup = bs(page.text,\"html.parser\")\n",
    "        script = soup.find('script', type='application/ld+json')\n",
    "        if script is not None:\n",
    "            script = script.string\n",
    "            data = json.loads(script)\n",
    "    \n",
    "            for item in data[2]['itemListElement']:\n",
    "                prop_name = item['item'].get('name', '')\n",
    "                prop_type = item['item'].get('@type', '')\n",
    "                prop_size = item['item'].get('floorSize', '')\n",
    "                no_of_room = item['item'].get('numberOfRooms', '')\n",
    "                prop_link = item['item'].get('url', '')\n",
    "                monthly_rent = item['item'].get('price', '')\n",
    "                address = item['item']['address'].get('addressLocality', '')\n",
    "\n",
    "                house_dict = {\n",
    "                    'Link': prop_link,\n",
    "                    'Name': prop_name,\n",
    "                    'Property Type': prop_type,\n",
    "                    'No of Rooms' :no_of_room,\n",
    "                    'Property Size (sq. ft)': prop_size,\n",
    "                    'Monthly Rent': monthly_rent,\n",
    "                    'Property Address': address\n",
    "                }\n",
    "                data_list.append(house_dict)\n",
    "\n",
    "    df = pd.DataFrame(data_list)\n",
    "    return df\n",
    "\n",
    "list_page = page_number(1,15)\n",
    "df = prop_data(list_page)  \n",
    "print(df)"
   ]
  },
  {
   "cell_type": "markdown",
   "id": "cba7ff86-164f-4067-a290-4baf7d27fa5e",
   "metadata": {},
   "source": [
    "Save the Dataframe into an excel file."
   ]
  },
  {
   "cell_type": "code",
   "execution_count": 56,
   "id": "4523038c-0804-45e9-897d-f60d436a7b87",
   "metadata": {},
   "outputs": [],
   "source": [
    "df.to_csv('14.TerengganuTest11p.csv', index=False)"
   ]
  }
 ],
 "metadata": {
  "kernelspec": {
   "display_name": "Python 3 (ipykernel)",
   "language": "python",
   "name": "python3"
  },
  "language_info": {
   "codemirror_mode": {
    "name": "ipython",
    "version": 3
   },
   "file_extension": ".py",
   "mimetype": "text/x-python",
   "name": "python",
   "nbconvert_exporter": "python",
   "pygments_lexer": "ipython3",
   "version": "3.11.7"
  }
 },
 "nbformat": 4,
 "nbformat_minor": 5
}
