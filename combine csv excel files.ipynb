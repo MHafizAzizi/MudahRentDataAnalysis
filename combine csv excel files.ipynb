{
 "cells": [
  {
   "cell_type": "code",
   "execution_count": 9,
   "id": "8ca1e919",
   "metadata": {},
   "outputs": [],
   "source": [
    "#importing required libraries\n",
    "import pandas as pd\n",
    "import glob"
   ]
  },
  {
   "cell_type": "code",
   "execution_count": 4,
   "id": "8034aa44",
   "metadata": {},
   "outputs": [
    {
     "data": {
      "text/plain": [
       "['D:/3. Data Analysis Project/Housing Rent\\\\1.KLMudahRent100pg.csv',\n",
       " 'D:/3. Data Analysis Project/Housing Rent\\\\2.SabahMudahRent100pg.csv',\n",
       " 'D:/3. Data Analysis Project/Housing Rent\\\\3.SelangorMudahRent100pg.csv',\n",
       " 'D:/3. Data Analysis Project/Housing Rent\\\\4.PutrajayaMudahRent100pg.csv',\n",
       " 'D:/3. Data Analysis Project/Housing Rent\\\\5.KelantanMudahRent100pg.csv',\n",
       " 'D:/3. Data Analysis Project/Housing Rent\\\\6.PenangMudahRent100pg.csv',\n",
       " 'D:/3. Data Analysis Project/Housing Rent\\\\7.JohorMudahRent100pg.csv',\n",
       " 'D:/3. Data Analysis Project/Housing Rent\\\\8.SarawakMudahRent100pg.csv']"
      ]
     },
     "execution_count": 4,
     "metadata": {},
     "output_type": "execute_result"
    }
   ],
   "source": [
    "#the location of your excel files\n",
    "list_file = glob.glob('D:/3. Data Analysis Project/Housing Rent/*.csv')\n",
    "list_file"
   ]
  },
  {
   "cell_type": "code",
   "execution_count": 5,
   "id": "b7d39b9c",
   "metadata": {},
   "outputs": [],
   "source": [
    "# list of excel files we want to merge.\n",
    "# pd.read_excel(file_path) reads the excel data into pandas dataframe.\n",
    "csv_list = []\n",
    "\n",
    "for file in list_file:\n",
    "    csv_list.append(pd.read_csv(file))"
   ]
  },
  {
   "cell_type": "code",
   "execution_count": 6,
   "id": "bf9354bb",
   "metadata": {},
   "outputs": [],
   "source": [
    "#concatenate all DataFrames in the list into a single DataFrame, returns new dataFrame.\n",
    "csv_merged = pd.concat(csv_list, ignore_index=True)"
   ]
  },
  {
   "cell_type": "code",
   "execution_count": 8,
   "id": "b0550c0a",
   "metadata": {},
   "outputs": [],
   "source": [
    "#exports the dataframe into excel file with specified name.\n",
    "csv_merged.to_csv('all_states_rent.csv', index=False)"
   ]
  }
 ],
 "metadata": {
  "kernelspec": {
   "display_name": "Python 3 (ipykernel)",
   "language": "python",
   "name": "python3"
  },
  "language_info": {
   "codemirror_mode": {
    "name": "ipython",
    "version": 3
   },
   "file_extension": ".py",
   "mimetype": "text/x-python",
   "name": "python",
   "nbconvert_exporter": "python",
   "pygments_lexer": "ipython3",
   "version": "3.11.5"
  }
 },
 "nbformat": 4,
 "nbformat_minor": 5
}
