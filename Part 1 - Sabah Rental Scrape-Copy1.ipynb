{
 "cells": [
  {
   "cell_type": "markdown",
   "id": "ce738eb1",
   "metadata": {},
   "source": [
    "# Sabah Rental Analysis"
   ]
  },
  {
   "cell_type": "markdown",
   "id": "023be164",
   "metadata": {},
   "source": [
    "look at this website for reference\n",
    "\n",
    "https://adtarie.net/posts/005-webscraping-machinelearning-rent-pricing/"
   ]
  },
  {
   "cell_type": "code",
   "execution_count": 1,
   "id": "a45d0185",
   "metadata": {},
   "outputs": [
    {
     "name": "stderr",
     "output_type": "stream",
     "text": [
      "Please specify one nbextension/package at a time\n"
     ]
    }
   ],
   "source": [
    "#importing libraries\n",
    "\n",
    "import pandas as pd\n",
    "import numpy as np\n",
    "import matplotlib.pyplot as plt\n",
    "import seaborn as sns\n",
    "pd.set_option('max_colwidth', 200)\n",
    "from bs4 import BeautifulSoup as bs\n",
    "import requests\n",
    "import re\n",
    "import time\n",
    "import datetime\n",
    "import smtplib\n",
    "import json\n",
    "from tqdm.notebook import tqdm, trange\n",
    "import time    # to be used in loop iterations\n",
    "\n",
    "!jupyter nbextension enable --py widgetsnbextension #enabling progress bar"
   ]
  },
  {
   "cell_type": "markdown",
   "id": "ce6a5b3b",
   "metadata": {},
   "source": [
    "page_number function is to generate a list of webpage address for a given page number and when executed, returns a list of listing web address "
   ]
  },
  {
   "cell_type": "code",
   "execution_count": 2,
   "id": "302e3152",
   "metadata": {},
   "outputs": [
    {
     "data": {
      "text/plain": [
       "['https://www.mudah.my/kedah/properties-for-rent?o=2',\n",
       " 'https://www.mudah.my/kedah/properties-for-rent?o=3',\n",
       " 'https://www.mudah.my/kedah/properties-for-rent?o=4']"
      ]
     },
     "execution_count": 2,
     "metadata": {},
     "output_type": "execute_result"
    }
   ],
   "source": [
    "def page_number(start,end):         \n",
    "    page_url = 'https://www.mudah.my/kedah/properties-for-rent?o=' #tinggal Terengganu,Kedah,Kelantan,Melaka,N9,Pahang,Perak,Perlis\n",
    "    list_page = []\n",
    "    for i in range(start, end+1):\n",
    "        list_page.append(page_url+str(i))\n",
    "    return list_page\n",
    "\n",
    "page_number(2,4)"
   ]
  },
  {
   "cell_type": "markdown",
   "id": "280d31c8",
   "metadata": {},
   "source": [
    "get_list_html will setting up a list of page in a given url and return a list of listing ads"
   ]
  },
  {
   "cell_type": "code",
   "execution_count": 3,
   "id": "ddff28f0",
   "metadata": {},
   "outputs": [
    {
     "name": "stdout",
     "output_type": "stream",
     "text": [
      "['https://www.mudah.my/Rumah+untuk+disewa+taman+langkawi+kuah-106116687.htm', 'https://www.mudah.my/Kedai+2+Tingkat+untuk+Sewa+di+Lunas-105845471.htm', 'https://www.mudah.my/Rumah+Berkembar+Setingkat+untuk+disewa+di+Lunas-105857541.htm', 'https://www.mudah.my/Ground+Floor+Shoplot+For+Rent-106116221.htm']\n"
     ]
    }
   ],
   "source": [
    "def get_list_html(page_url): \n",
    "    headers = {\"User-Agent\": \"Mozilla/5.0 (Windows NT 10.0; Win64; x64; rv:124.0) Gecko/20100101 Firefox/124.0\"} #google my user agent\n",
    "    page = requests.get(url=page_url, headers=headers)\n",
    "    soup = bs(page.text, \"html.parser\")\n",
    "    \n",
    "    script_tag = soup.find('script', type='application/ld+json')\n",
    "    if script_tag is not None:\n",
    "        data = json.loads(script_tag.text)\n",
    "        dict_query = data[2]['itemListElement']\n",
    "        \n",
    "        n_query = data[2]['numberOfItems']\n",
    "        list_html = []\n",
    "        \n",
    "        for i in range(n_query):\n",
    "            link = data[2]['itemListElement'][i]['item']['url']\n",
    "            list_html.append(link)\n",
    "        \n",
    "        return list_html\n",
    "    else:\n",
    "        return []  \n",
    "\n",
    "print(get_list_html('https://www.mudah.my/kedah/properties-for-rent?o=2')[1:5])\n"
   ]
  },
  {
   "cell_type": "markdown",
   "id": "4a6acd17",
   "metadata": {},
   "source": [
    "get_list_url generate listing property from each page of n_page"
   ]
  },
  {
   "cell_type": "code",
   "execution_count": 4,
   "id": "bd07fad2",
   "metadata": {},
   "outputs": [
    {
     "data": {
      "application/vnd.jupyter.widget-view+json": {
       "model_id": "260519a8d5894bd0bd729edf576f0849",
       "version_major": 2,
       "version_minor": 0
      },
      "text/plain": [
       "  0%|          | 0/1 [00:00<?, ?it/s]"
      ]
     },
     "metadata": {},
     "output_type": "display_data"
    },
    {
     "data": {
      "text/plain": [
       "['https://www.mudah.my/Taman+Ria+Jaya+Terrace+House+for+Rent-105335835.htm',\n",
       " 'https://www.mudah.my/+FULLY+GATED+GUARDED+PERMAIPURA+BEDONG+GURUN+2+Stry+Terrace+for+RENT-106124181.htm',\n",
       " 'https://www.mudah.my/3+Storey+Shop+Lot+Bakar+Arang-103475686.htm']"
      ]
     },
     "execution_count": 4,
     "metadata": {},
     "output_type": "execute_result"
    }
   ],
   "source": [
    "def get_list_url(n_page):\n",
    "    list_html = []\n",
    "    for i in tqdm(range(n_page)):\n",
    "        list_html.extend(get_list_html(page_number(1,n_page)[i]))\n",
    "    return list_html\n",
    "get_list_url(1)[:3]   "
   ]
  },
  {
   "cell_type": "markdown",
   "id": "4e62a4c7",
   "metadata": {},
   "source": [
    "get_list_dict extract data from url and its function is to get dataset (atribut of units) in a form of dictionary and returns a dictionaries of attributes inside a list"
   ]
  },
  {
   "cell_type": "code",
   "execution_count": 5,
   "id": "ee250023",
   "metadata": {},
   "outputs": [
    {
     "data": {
      "application/vnd.jupyter.widget-view+json": {
       "model_id": "a7dd5b08161f4d1b9cbae615b3ba778b",
       "version_major": 2,
       "version_minor": 0
      },
      "text/plain": [
       "  0%|          | 0/1 [00:00<?, ?it/s]"
      ]
     },
     "metadata": {},
     "output_type": "display_data"
    },
    {
     "data": {
      "application/vnd.jupyter.widget-view+json": {
       "model_id": "9ee03624bb824bd09aa4cdae955f7338",
       "version_major": 2,
       "version_minor": 0
      },
      "text/plain": [
       "  0%|          | 0/40 [00:00<?, ?it/s]"
      ]
     },
     "metadata": {},
     "output_type": "display_data"
    },
    {
     "data": {
      "text/plain": [
       "{}"
      ]
     },
     "execution_count": 5,
     "metadata": {},
     "output_type": "execute_result"
    }
   ],
   "source": [
    "def get_list_dict(n_page):\n",
    "    headers = {\"User-Agent\": \"Mozilla/5.0 (Windows NT 10.0; Win64; x64; rv:124.0) Gecko/20100101 Firefox/124.0\"}\n",
    "    list_html = get_list_url(n_page)\n",
    "    list_dict = []\n",
    "    \n",
    "    for url in tqdm(list_html):\n",
    "        dict_unit = {}  # Initialize with a default value\n",
    "        try:\n",
    "            page = requests.get(url=url, headers=headers)\n",
    "            soup1 = bs(page.text, \"html.parser\")\n",
    "            soup2 = bs(soup1.prettify(), 'html.parser')\n",
    "\n",
    "            id_html = re.search(r'(\\d+).htm', url).group(1)\n",
    "            title = soup2.find(itemprop='name').text.strip()\n",
    "\n",
    "            script_tag = soup2.find(\"script\", id=\"__NEXT_DATA__\")\n",
    "            script_content = script_tag.text\n",
    "            data = json.loads(script_content)\n",
    "            props = data.get(\"props\", {})\n",
    "            id_listing = re.search(r'-(\\d+)\\.htm', url).group(1)\n",
    "\n",
    "            dict_id = [{'realValue': '', 'id': 'ads_id', 'value': id_listing, 'label': 'id ads'}]\n",
    "            dict_building = props[\"initialState\"][\"adDetails\"][\"byID\"][id_listing][\"attributes\"]['propertyParams'][2]['params']\n",
    "            dict_prop = props[\"initialState\"][\"adDetails\"][\"byID\"][id_listing][\"attributes\"]['categoryParams']\n",
    "            dict_unit = dict_id + dict_building + dict_prop\n",
    "        except:\n",
    "            pass  # You can put a specific action here if needed\n",
    "        \n",
    "        list_dict.append(dict_unit)\n",
    "\n",
    "    return list_dict\n",
    "\n",
    "# Sanity check\n",
    "get_list_dict(1)[4]"
   ]
  },
  {
   "cell_type": "code",
   "execution_count": 6,
   "id": "0fd3b556",
   "metadata": {},
   "outputs": [
    {
     "data": {
      "application/vnd.jupyter.widget-view+json": {
       "model_id": "6cb39ff7e035417f9bc610a659a4eff7",
       "version_major": 2,
       "version_minor": 0
      },
      "text/plain": [
       "  0%|          | 0/1 [00:00<?, ?it/s]"
      ]
     },
     "metadata": {},
     "output_type": "display_data"
    },
    {
     "data": {
      "application/vnd.jupyter.widget-view+json": {
       "model_id": "917ec181fa0c4c70b45d4df80dc39383",
       "version_major": 2,
       "version_minor": 0
      },
      "text/plain": [
       "  0%|          | 0/40 [00:00<?, ?it/s]"
      ]
     },
     "metadata": {},
     "output_type": "display_data"
    },
    {
     "data": {
      "text/plain": [
       "{'ads_id': None,\n",
       " 'prop_name': None,\n",
       " 'completion_year': None,\n",
       " 'monthly_rent': None,\n",
       " 'location': None,\n",
       " 'property_type': None,\n",
       " 'rooms': None,\n",
       " 'parking': None,\n",
       " 'bathroom': None,\n",
       " 'size': None,\n",
       " 'furnished': None,\n",
       " 'facilities': None,\n",
       " 'additional_facilities': None}"
      ]
     },
     "execution_count": 6,
     "metadata": {},
     "output_type": "execute_result"
    }
   ],
   "source": [
    "#getting values out of dictionary\n",
    "def get_values(list_dict):\n",
    "    \"\"\"\n",
    "    Description:\n",
    "        Function to values of the previous dictionary.\n",
    "\n",
    "    Parameters:\n",
    "        list_dict (list): list of dictionary where attributes stored\n",
    "        \n",
    "    Returns:\n",
    "        a list of values (unit/property) attributes\n",
    "    \n",
    "    \"\"\"\n",
    "    keys = [\n",
    "        'ads_id',\n",
    "        'prop_name',\n",
    "        # 'developer_name', \n",
    "        # 'address', \n",
    "        'completion_year', \n",
    "        # 'num_floors', \n",
    "        # 'num_units',\n",
    "        'monthly_rent', \n",
    "        # 'category_id', \n",
    "        'location', \n",
    "        'property_type', \n",
    "        # 'floor_range', \n",
    "        'rooms', \n",
    "        'parking',\n",
    "        'bathroom', \n",
    "        'size', \n",
    "        'furnished',\n",
    "        'facilities', \n",
    "        'additional_facilities', \n",
    "       ]\n",
    "\n",
    "    values = {}\n",
    "    for key in keys:\n",
    "        try:\n",
    "            values[key] = next(item['value'] for item in list_dict if item[\"id\"] == key)\n",
    "        except StopIteration:\n",
    "            values[key] = None\n",
    "    return values\n",
    "\n",
    "#sanity check\n",
    "get_values(get_list_dict(1)[5])"
   ]
  },
  {
   "cell_type": "markdown",
   "id": "86ffbf96",
   "metadata": {},
   "source": [
    "get_df_final will generate a dataframe from the list"
   ]
  },
  {
   "cell_type": "code",
   "execution_count": 24,
   "id": "b9f45280",
   "metadata": {},
   "outputs": [],
   "source": [
    "#get df from list\n",
    "def get_df_final(n_page):\n",
    "    \n",
    "    list_data = get_list_dict(n_page)\n",
    "    list_new = []\n",
    "    for i in range(0,len(list_data)):\n",
    "            dic = get_values(list_data[i])\n",
    "            list_new.append(dic)\n",
    "    \n",
    "    df = pd.DataFrame(list_new)\n",
    "    return df"
   ]
  },
  {
   "cell_type": "markdown",
   "id": "5ce848dd",
   "metadata": {},
   "source": [
    "Before we scrape, lets test with the first page and call the first the unit with the dataframe transpose"
   ]
  },
  {
   "cell_type": "code",
   "execution_count": 16,
   "id": "ef8deae4",
   "metadata": {},
   "outputs": [
    {
     "data": {
      "application/vnd.jupyter.widget-view+json": {
       "model_id": "8521a999033642a382afcf3c08314199",
       "version_major": 2,
       "version_minor": 0
      },
      "text/plain": [
       "  0%|          | 0/1 [00:00<?, ?it/s]"
      ]
     },
     "metadata": {},
     "output_type": "display_data"
    },
    {
     "data": {
      "application/vnd.jupyter.widget-view+json": {
       "model_id": "4a1701e29d5146fa9dd2b277f4b85f74",
       "version_major": 2,
       "version_minor": 0
      },
      "text/plain": [
       "  0%|          | 0/40 [00:00<?, ?it/s]"
      ]
     },
     "metadata": {},
     "output_type": "display_data"
    },
    {
     "data": {
      "text/html": [
       "<div>\n",
       "<style scoped>\n",
       "    .dataframe tbody tr th:only-of-type {\n",
       "        vertical-align: middle;\n",
       "    }\n",
       "\n",
       "    .dataframe tbody tr th {\n",
       "        vertical-align: top;\n",
       "    }\n",
       "\n",
       "    .dataframe thead th {\n",
       "        text-align: right;\n",
       "    }\n",
       "</style>\n",
       "<table border=\"1\" class=\"dataframe\">\n",
       "  <thead>\n",
       "    <tr style=\"text-align: right;\">\n",
       "      <th></th>\n",
       "      <th>0</th>\n",
       "      <th>1</th>\n",
       "      <th>2</th>\n",
       "    </tr>\n",
       "  </thead>\n",
       "  <tbody>\n",
       "    <tr>\n",
       "      <th>ads_id</th>\n",
       "      <td>None</td>\n",
       "      <td>105245462</td>\n",
       "      <td>105231263</td>\n",
       "    </tr>\n",
       "    <tr>\n",
       "      <th>prop_name</th>\n",
       "      <td>None</td>\n",
       "      <td>Urbaneeze Apartment</td>\n",
       "      <td>Nu Ryegates</td>\n",
       "    </tr>\n",
       "    <tr>\n",
       "      <th>completion_year</th>\n",
       "      <td>None</td>\n",
       "      <td>2016</td>\n",
       "      <td>2020</td>\n",
       "    </tr>\n",
       "    <tr>\n",
       "      <th>monthly_rent</th>\n",
       "      <td>None</td>\n",
       "      <td>RM 1,800 per month</td>\n",
       "      <td>RM 1,800 per month</td>\n",
       "    </tr>\n",
       "    <tr>\n",
       "      <th>location</th>\n",
       "      <td>None</td>\n",
       "      <td>Sarawak - Kuching</td>\n",
       "      <td>Sarawak - Kuching</td>\n",
       "    </tr>\n",
       "    <tr>\n",
       "      <th>property_type</th>\n",
       "      <td>None</td>\n",
       "      <td>Apartment</td>\n",
       "      <td>Apartment</td>\n",
       "    </tr>\n",
       "    <tr>\n",
       "      <th>rooms</th>\n",
       "      <td>None</td>\n",
       "      <td>3</td>\n",
       "      <td>3</td>\n",
       "    </tr>\n",
       "    <tr>\n",
       "      <th>parking</th>\n",
       "      <td>None</td>\n",
       "      <td>1</td>\n",
       "      <td>2</td>\n",
       "    </tr>\n",
       "    <tr>\n",
       "      <th>bathroom</th>\n",
       "      <td>None</td>\n",
       "      <td>2</td>\n",
       "      <td>2</td>\n",
       "    </tr>\n",
       "    <tr>\n",
       "      <th>size</th>\n",
       "      <td>None</td>\n",
       "      <td>1399 sq.ft.</td>\n",
       "      <td>1150 sq.ft.</td>\n",
       "    </tr>\n",
       "    <tr>\n",
       "      <th>furnished</th>\n",
       "      <td>None</td>\n",
       "      <td>Fully Furnished</td>\n",
       "      <td>Fully Furnished</td>\n",
       "    </tr>\n",
       "    <tr>\n",
       "      <th>facilities</th>\n",
       "      <td>None</td>\n",
       "      <td>Lift, Security, Playground, Parking, Jogging Track</td>\n",
       "      <td>Security, Swimming Pool, Gymnasium, Playground, Parking, Lift, Jogging Track, Club house</td>\n",
       "    </tr>\n",
       "    <tr>\n",
       "      <th>additional_facilities</th>\n",
       "      <td>None</td>\n",
       "      <td>Air-Cond, Cooking Allowed, Washing Machine, Internet</td>\n",
       "      <td>Air-Cond, Cooking Allowed, Washing Machine, Internet</td>\n",
       "    </tr>\n",
       "  </tbody>\n",
       "</table>\n",
       "</div>"
      ],
      "text/plain": [
       "                          0  \\\n",
       "ads_id                 None   \n",
       "prop_name              None   \n",
       "completion_year        None   \n",
       "monthly_rent           None   \n",
       "location               None   \n",
       "property_type          None   \n",
       "rooms                  None   \n",
       "parking                None   \n",
       "bathroom               None   \n",
       "size                   None   \n",
       "furnished              None   \n",
       "facilities             None   \n",
       "additional_facilities  None   \n",
       "\n",
       "                                                                          1  \\\n",
       "ads_id                                                            105245462   \n",
       "prop_name                                               Urbaneeze Apartment   \n",
       "completion_year                                                        2016   \n",
       "monthly_rent                                             RM 1,800 per month   \n",
       "location                                                  Sarawak - Kuching   \n",
       "property_type                                                     Apartment   \n",
       "rooms                                                                     3   \n",
       "parking                                                                   1   \n",
       "bathroom                                                                  2   \n",
       "size                                                            1399 sq.ft.   \n",
       "furnished                                                   Fully Furnished   \n",
       "facilities               Lift, Security, Playground, Parking, Jogging Track   \n",
       "additional_facilities  Air-Cond, Cooking Allowed, Washing Machine, Internet   \n",
       "\n",
       "                                                                                                              2  \n",
       "ads_id                                                                                                105231263  \n",
       "prop_name                                                                                           Nu Ryegates  \n",
       "completion_year                                                                                            2020  \n",
       "monthly_rent                                                                                 RM 1,800 per month  \n",
       "location                                                                                      Sarawak - Kuching  \n",
       "property_type                                                                                         Apartment  \n",
       "rooms                                                                                                         3  \n",
       "parking                                                                                                       2  \n",
       "bathroom                                                                                                      2  \n",
       "size                                                                                                1150 sq.ft.  \n",
       "furnished                                                                                       Fully Furnished  \n",
       "facilities             Security, Swimming Pool, Gymnasium, Playground, Parking, Lift, Jogging Track, Club house  \n",
       "additional_facilities                                      Air-Cond, Cooking Allowed, Washing Machine, Internet  "
      ]
     },
     "execution_count": 16,
     "metadata": {},
     "output_type": "execute_result"
    }
   ],
   "source": [
    "#sanity check\n",
    "#scrape how many pages, \n",
    "get_df_final(1).head(3).T"
   ]
  },
  {
   "cell_type": "code",
   "execution_count": 25,
   "id": "63b8f0fc",
   "metadata": {},
   "outputs": [
    {
     "data": {
      "application/vnd.jupyter.widget-view+json": {
       "model_id": "e6b69f48aa4e44179366030d9c5a464d",
       "version_major": 2,
       "version_minor": 0
      },
      "text/plain": [
       "  0%|          | 0/3 [00:00<?, ?it/s]"
      ]
     },
     "metadata": {},
     "output_type": "display_data"
    },
    {
     "data": {
      "application/vnd.jupyter.widget-view+json": {
       "model_id": "6f2ae244ec674124950a1e389d23e77f",
       "version_major": 2,
       "version_minor": 0
      },
      "text/plain": [
       "  0%|          | 0/90 [00:00<?, ?it/s]"
      ]
     },
     "metadata": {},
     "output_type": "display_data"
    }
   ],
   "source": [
    "### save to file\n",
    "df_= get_df_final(3) #page 20 can\n",
    "#df_.to_csv('SarawakMudahRent100pg.csv', index=False)"
   ]
  },
  {
   "cell_type": "code",
   "execution_count": 26,
   "id": "da38bebf",
   "metadata": {},
   "outputs": [],
   "source": [
    "df_.to_csv('PerlisMudahRent3pg.csv', index=False)"
   ]
  },
  {
   "cell_type": "code",
   "execution_count": null,
   "id": "e6b520aa",
   "metadata": {},
   "outputs": [],
   "source": []
  }
 ],
 "metadata": {
  "kernelspec": {
   "display_name": "Python 3 (ipykernel)",
   "language": "python",
   "name": "python3"
  },
  "language_info": {
   "codemirror_mode": {
    "name": "ipython",
    "version": 3
   },
   "file_extension": ".py",
   "mimetype": "text/x-python",
   "name": "python",
   "nbconvert_exporter": "python",
   "pygments_lexer": "ipython3",
   "version": "3.11.5"
  }
 },
 "nbformat": 4,
 "nbformat_minor": 5
}
